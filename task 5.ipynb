{
 "cells": [
  {
   "cell_type": "code",
   "execution_count": 1,
   "id": "302aeec3",
   "metadata": {},
   "outputs": [
    {
     "name": "stdout",
     "output_type": "stream",
     "text": [
      "DFS Traversal: A B D E C F "
     ]
    }
   ],
   "source": [
    "# ----- DFS using Stack and Node -----\n",
    "\n",
    "class Node:\n",
    "    def __init__(self, value):\n",
    "        self.value = value\n",
    "        self.left = None\n",
    "        self.right = None\n",
    "\n",
    "def dfs_with_stack(root):\n",
    "    if root is None:\n",
    "        return\n",
    "    \n",
    "    stack = [root]\n",
    "    print(\"DFS Traversal:\", end=\" \")\n",
    "\n",
    "    while stack:\n",
    "        node = stack.pop()\n",
    "        print(node.value, end=\" \")\n",
    "        if node.right:\n",
    "            stack.append(node.right)\n",
    "        if node.left:\n",
    "            stack.append(node.left)\n",
    "\n",
    "# Create Tree\n",
    "#        A\n",
    "#       / \\\n",
    "#      B   C\n",
    "#     / \\   \\\n",
    "#    D   E   F\n",
    "\n",
    "root = Node('A')\n",
    "root.left = Node('B')\n",
    "root.right = Node('C')\n",
    "root.left.left = Node('D')\n",
    "root.left.right = Node('E')\n",
    "root.right.right = Node('F')\n",
    "\n",
    "dfs_with_stack(root)\n"
   ]
  },
  {
   "cell_type": "code",
   "execution_count": null,
   "id": "4ad1fa5a",
   "metadata": {},
   "outputs": [],
   "source": [
    "# ----- Inorder, Preorder, and Postorder Traversal -----\n",
    "\n",
    "class Node:\n",
    "    def __init__(self, value):\n",
    "        self.value = value\n",
    "        self.left = None\n",
    "        self.right = None\n",
    "\n",
    "def inorder(root):\n",
    "    if root:\n",
    "        inorder(root.left)\n",
    "        print(root.value, end=\" \")\n",
    "        inorder(root.right)\n",
    "\n",
    "def preorder(root):\n",
    "    if root:\n",
    "        print(root.value, end=\" \")\n",
    "        preorder(root.left)\n",
    "        preorder(root.right)\n",
    "\n",
    "def postorder(root):\n",
    "    if root:\n",
    "        postorder(root.left)\n",
    "        postorder(root.right)\n",
    "        print(root.value, end=\" \")\n",
    "\n",
    "# Create Tree\n",
    "#        A\n",
    "#       / \\\n",
    "#      B   C\n",
    "#     / \\   \\\n",
    "#    D   E   F\n",
    "\n",
    "root = Node('A')\n",
    "root.left = Node('B')\n",
    "root.right = Node('C')\n",
    "root.left.left = Node('D')\n",
    "root.left.right = Node('E')\n",
    "root.right.right = Node('F')\n",
    "\n",
    "print(\"\\nInorder Traversal: \")\n",
    "inorder(root)\n",
    "\n",
    "print(\"\\nPreorder Traversal: \")\n",
    "preorder(root)\n",
    "\n",
    "print(\"\\nPostorder Traversal: \")\n",
    "postorder(root)\n"
   ]
  }
 ],
 "metadata": {
  "kernelspec": {
   "display_name": "Python 3",
   "language": "python",
   "name": "python3"
  },
  "language_info": {
   "codemirror_mode": {
    "name": "ipython",
    "version": 3
   },
   "file_extension": ".py",
   "mimetype": "text/x-python",
   "name": "python",
   "nbconvert_exporter": "python",
   "pygments_lexer": "ipython3",
   "version": "3.13.7"
  }
 },
 "nbformat": 4,
 "nbformat_minor": 5
}
