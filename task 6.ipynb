{
 "cells": [
  {
   "cell_type": "code",
   "execution_count": 1,
   "id": "9c16dde6",
   "metadata": {},
   "outputs": [
    {
     "name": "stdout",
     "output_type": "stream",
     "text": [
      "BFS Traversal (Without Queue): A B C D E F G H I J K L M "
     ]
    }
   ],
   "source": [
    "#without queue\n",
    "graph = {\n",
    "    'A': ['B', 'C'],\n",
    "    'B': ['D', 'E'],\n",
    "    'C': ['F'],\n",
    "    'D': ['G', 'H'],\n",
    "    'E': ['I'],\n",
    "    'F': ['J', 'K'],\n",
    "    'G': [],\n",
    "    'H': ['L'],\n",
    "    'I': [],\n",
    "    'J': [],\n",
    "    'K': ['M'],\n",
    "    'L': [],\n",
    "    'M': []\n",
    "}\n",
    "\n",
    "visited = []  # List for visited nodes\n",
    "\n",
    "def bfs_without_queue(graph, start):\n",
    "    print(\"BFS Traversal (Without Queue):\", end=\" \")\n",
    "    level = [start]   # Start from the root level\n",
    "    while level:\n",
    "        next_level = []\n",
    "        for node in level:\n",
    "            if node not in visited:\n",
    "                print(node, end=\" \")\n",
    "                visited.append(node)\n",
    "                for child in graph[node]:\n",
    "                    next_level.append(child)\n",
    "        level = next_level\n",
    "\n",
    "start = 'A'\n",
    "bfs_without_queue(graph, start)\n"
   ]
  },
  {
   "cell_type": "code",
   "execution_count": null,
   "id": "fc5e9783",
   "metadata": {},
   "outputs": [],
   "source": [
    "#with queue\n",
    "from collections import deque\n",
    "\n",
    "graph = {\n",
    "    'A': ['B', 'C'],\n",
    "    'B': ['D', 'E'],\n",
    "    'C': ['F'],\n",
    "    'D': ['G', 'H'],\n",
    "    'E': ['I'],\n",
    "    'F': ['J', 'K'],\n",
    "    'G': [],\n",
    "    'H': ['L'],\n",
    "    'I': [],\n",
    "    'J': [],\n",
    "    'K': ['M'],\n",
    "    'L': [],\n",
    "    'M': []\n",
    "}\n",
    "\n",
    "def bfs_with_queue(graph, start):\n",
    "    visited = []\n",
    "    queue = deque([start])\n",
    "    print(\"BFS Traversal (With Queue):\", end=\" \")\n",
    "\n",
    "    while queue:\n",
    "        node = queue.popleft()\n",
    "        if node not in visited:\n",
    "            print(node, end=\" \")\n",
    "            visited.append(node)\n",
    "            for child in graph[node]:\n",
    "                queue.append(child)\n",
    "\n",
    "start = 'A'\n",
    "bfs_with_queue(graph, start)\n"
   ]
  }
 ],
 "metadata": {
  "kernelspec": {
   "display_name": "Python 3",
   "language": "python",
   "name": "python3"
  },
  "language_info": {
   "codemirror_mode": {
    "name": "ipython",
    "version": 3
   },
   "file_extension": ".py",
   "mimetype": "text/x-python",
   "name": "python",
   "nbconvert_exporter": "python",
   "pygments_lexer": "ipython3",
   "version": "3.13.7"
  }
 },
 "nbformat": 4,
 "nbformat_minor": 5
}
