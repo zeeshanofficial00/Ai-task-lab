{
 "cells": [
  {
   "cell_type": "markdown",
   "id": "2b7f1998",
   "metadata": {},
   "source": [
    "Code for LUHN Algorithm\n"
   ]
  },
  {
   "cell_type": "code",
   "execution_count": 1,
   "id": "d82f6fd1",
   "metadata": {},
   "outputs": [
    {
     "name": "stdout",
     "output_type": "stream",
     "text": [
      "✅ Card number is valid\n"
     ]
    }
   ],
   "source": [
    "# ----- LUHN Algorithm -----\n",
    "\n",
    "def luhn_check(card_number):\n",
    "    card_number = card_number.replace(\" \", \"\")   # remove spaces\n",
    "    total = 0\n",
    "    reverse_digits = card_number[::-1]\n",
    "    for i, digit in enumerate(reverse_digits):\n",
    "        n = int(digit)\n",
    "        if i % 2 == 1:\n",
    "            n = n * 2\n",
    "            if n > 9:\n",
    "                n = n - 9\n",
    "        total += n\n",
    "    if total % 10 == 0:\n",
    "        print(\"✅ Card number is valid\")\n",
    "    else:\n",
    "        print(\"❌ Card number is invalid\")\n",
    "num = input(\"Enter your card number: \")\n",
    "luhn_check(num)\n"
   ]
  },
  {
   "cell_type": "markdown",
   "id": "84bcd5db",
   "metadata": {},
   "source": [
    "Remove Punctuations from a String"
   ]
  },
  {
   "cell_type": "code",
   "execution_count": 2,
   "id": "68a44a2b",
   "metadata": {},
   "outputs": [
    {
     "name": "stderr",
     "output_type": "stream",
     "text": [
      "<>:3: SyntaxWarning: invalid escape sequence '\\,'\n",
      "<>:3: SyntaxWarning: invalid escape sequence '\\,'\n",
      "C:\\Users\\speed\\AppData\\Local\\Temp\\ipykernel_3568\\2252689617.py:3: SyntaxWarning: invalid escape sequence '\\,'\n",
      "  punctuations = '''!()-[]{};:'\"\\,<>./?@#$%^&*_~'''\n"
     ]
    },
    {
     "name": "stdout",
     "output_type": "stream",
     "text": [
      "Sentence without punctuations:\n",
      "\n"
     ]
    }
   ],
   "source": [
    "# ----- Remove Punctuations -----\n",
    "\n",
    "punctuations = '''!()-[]{};:'\"\\,<>./?@#$%^&*_~'''\n",
    "text = input(\"Enter any sentence: \")\n",
    "no_punct = \"\"\n",
    "\n",
    "for char in text:\n",
    "    if char not in punctuations:\n",
    "        no_punct += char\n",
    "\n",
    "print(\"Sentence without punctuations:\")\n",
    "print(no_punct)\n"
   ]
  },
  {
   "cell_type": "markdown",
   "id": "bf279a2a",
   "metadata": {},
   "source": [
    "Sort a Sentence in Alphabetical Order"
   ]
  },
  {
   "cell_type": "code",
   "execution_count": null,
   "id": "71685539",
   "metadata": {},
   "outputs": [],
   "source": [
    "# ----- Sort Sentence Alphabetically -----\n",
    "\n",
    "sentence = input(\"Enter a sentence: \")\n",
    "words = sentence.split()\n",
    "words.sort()\n",
    "\n",
    "print(\"Sentence in alphabetical order:\")\n",
    "for word in words:\n",
    "    print(word, end=\" \")\n"
   ]
  }
 ],
 "metadata": {
  "kernelspec": {
   "display_name": "Python 3",
   "language": "python",
   "name": "python3"
  },
  "language_info": {
   "codemirror_mode": {
    "name": "ipython",
    "version": 3
   },
   "file_extension": ".py",
   "mimetype": "text/x-python",
   "name": "python",
   "nbconvert_exporter": "python",
   "pygments_lexer": "ipython3",
   "version": "3.13.7"
  }
 },
 "nbformat": 4,
 "nbformat_minor": 5
}
